{
 "cells": [
  {
   "cell_type": "markdown",
   "metadata": {},
   "source": [
    "**2023-02-02 `09-SQL - Day 1 - Introduction to SQL`**"
   ]
  },
  {
   "cell_type": "markdown",
   "metadata": {},
   "source": [
    "Project One is DONE!  I can't tell you how proud I am of the final products and deliveries of each and everyone of you!  It's time to get back to lectures and learning some new and extremely useful tools for Data Professional Career.  Next class, we start SQL, this language will be used by every one of you in one form or another no matter what type of Data Profession you go into.\n",
    "Here are some specific links to what we are doing next class:\n",
    "* [PostGres Create Database](https://www.tutorialspoint.com/postgresql/postgresql_create_database.htm)\n",
    "* [PostGres Create Table](https://www.tutorialspoint.com/postgresql/postgresql_create_table.htm)\n",
    "* [PostGres Data Types](https://www.tutorialspoint.com/postgresql/postgresql_data_types.htm)\n",
    "* [SQL Primary Key](https://www.tutorialspoint.com/sql/sql-primary-key.htm)\n"
   ]
  },
  {
   "cell_type": "markdown",
   "metadata": {},
   "source": [
    "Please ensure you can open PGAdmin AND expand the \"Servers\" list.  If you cannot please come to office hours.  If you do not have things properly set up and do not show up to office hours, you will have to go to breakout with TA and you might miss some of the lecture.\n",
    "\n",
    "* [Visual Explanation of Joins](https://dataschool.com/how-to-teach-people-sql/sql-join-types-explained-visually/)\n",
    "* [Another Visual Explanation of Joins](https://blog.codinghorror.com/a-visual-explanation-of-sql-joins/)\n",
    "* [Try out SQL in browser](https://sqlzoo.net/)\n"
   ]
  },
  {
   "cell_type": "markdown",
   "metadata": {},
   "source": [
    "**Objectives**\n",
    "\n",
    "- Install and run Postgres and pgAdmin on your computers.\n",
    "- Create a database and tables using pgAdmin.\n",
    "- Define SQL data types, primary keys, and unique values.\n",
    "- Load CSV files into a database and query the data.\n",
    "- Articulate the four basic functions of persistent storage (CRUD) and apply this set of functions to a database.\n",
    "- Combine data from multiple tables using JOINs.\n"
   ]
  },
  {
   "cell_type": "markdown",
   "metadata": {},
   "source": [
    "**Install**\n",
    "* [Postgres & pgAdmin for Windows](https://ucb.bootcampcontent.com/UCB-Coding-Bootcamp/UCB-VIRT-DATA-PT-11-2022-U-LOLC/-/blob/main/09-SQL/Supplemental/InstallationGuides/pgAdmin_and_Postgres_for_Windows.md)\n",
    "* [Postgres & pgAdmin for Mac](https://ucb.bootcampcontent.com/UCB-Coding-Bootcamp/UCB-VIRT-DATA-PT-11-2022-U-LOLC/-/blob/main/09-SQL/Supplemental/InstallationGuides/pgAdmin_and_Postgres_for_Mac.md)\n"
   ]
  },
  {
   "cell_type": "markdown",
   "metadata": {},
   "source": [
    "**Resources**\n",
    "* [SQL Troubleshooting Guide](https://ucb.bootcampcontent.com/UCB-Coding-Bootcamp/UCB-VIRT-DATA-PT-11-2022-U-LOLC/-/blob/main/09-SQL/Supplemental/SQL_troubleshooting_guide.md)\n",
    "* [SQL reference guide](https://ucb.bootcampcontent.com/UCB-Coding-Bootcamp/UCB-VIRT-DATA-PT-11-2022-U-LOLC/-/blob/main/09-SQL/Supplemental/SQL_reference_guide.pdf)\n",
    "* [PostgreSQL Data Types](https://www.postgresql.org/docs/13/datatype.html)\n",
    "* [postgresql_data_types](https://www.tutorialspoint.com/postgresql/postgresql_data_types.htm)\n"
   ]
  },
  {
   "cell_type": "markdown",
   "metadata": {},
   "source": [
    "**Presentation**\n",
    "* [09-1-Intro-to-SQL](https://ucb.bootcampcontent.com/UCB-Coding-Bootcamp/UCB-VIRT-DATA-PT-11-2022-U-LOLC/-/blob/main/slides/Data-09.1_Introduction_to_SQL.pdf)"
   ]
  },
  {
   "cell_type": "markdown",
   "metadata": {},
   "source": [
    "# =========================================="
   ]
  },
  {
   "cell_type": "markdown",
   "metadata": {},
   "source": [
    "### 1.01 Everyone Do: Create a Database (5 mins)"
   ]
  },
  {
   "cell_type": "markdown",
   "metadata": {},
   "source": [
    "* Open pgAdmin in a new browser window and ensure that everyone is able to follow along and view their new server in the browser.\n",
    "![browser-view.png](../../images/browser-view.png)"
   ]
  },
  {
   "cell_type": "markdown",
   "metadata": {},
   "source": [
    "  * In the pgAdmin editor, right-click the newly established server to create a new database.\n",
    "\n",
    "  * From the menu, select **Create**, and then select **Database** to create a new database.\n",
    "\n",
    "  ![create_database.png](../../images/create_database.png)"
   ]
  },
  {
   "cell_type": "markdown",
   "metadata": {},
   "source": [
    "* Enter **animals_db** as the database name. Make sure the owner is set as the default postgres, and then click **Save**.\n",
    "\n",
    "![animals_db.png](../../images/animals_db.png)"
   ]
  },
  {
   "cell_type": "markdown",
   "metadata": {},
   "source": [
    "* At this point, you'll see a new database listed in the left-hand menu `animals_db`, but it's not yet connected to the server. By clicking on the database you'll create a connection to Postgres.\n",
    "\n",
    "![new_db.png](../../images/new_db.png)"
   ]
  },
  {
   "cell_type": "markdown",
   "metadata": {},
   "source": [
    "# =========================================="
   ]
  },
  {
   "cell_type": "markdown",
   "metadata": {},
   "source": [
    "### 1.02 Instructor Do: Create a Table (10 mins)"
   ]
  },
  {
   "cell_type": "markdown",
   "metadata": {},
   "source": [
    "* From the left-hand menu in pgAdmin, right-click **animals_db** and select **Query Tool**.\n",
    "\n",
    "  **Note:** You can also select **Query Tool** from the Tools drop-down menu at the top of the screen. (See second screenshot below.)\n",
    "\n",
    "![query_tool.png](../../images/query_tool.png)\n",
    "\n",
    "![tools_dropdown.png](../../images/tool_dropdown.png)"
   ]
  },
  {
   "cell_type": "markdown",
   "metadata": {},
   "source": [
    "* Type the following lines of code, explaining each line:\n",
    "\n",
    "  ```sql\n",
    "  CREATE TABLE people (\n",
    "    name VARCHAR(30) NOT NULL,\n",
    "    has_pet BOOLEAN DEFAULT false,\n",
    "    pet_type VARCHAR(10) NOT NULL,\n",
    "    pet_name VARCHAR(30),\n",
    "    pet_age INT\n",
    "  );\n",
    "  ```"
   ]
  },
  {
   "cell_type": "markdown",
   "metadata": {},
   "source": [
    "* After reviewing the code, click the lightning bolt icon to run the script. Make a note of the Messages tab at the bottom of the screen.\n",
    "\n",
    "![lightning_bolt.png](../../images/lightning_bolt.png)"
   ]
  },
  {
   "cell_type": "markdown",
   "metadata": {},
   "source": [
    "* Alternative method: Highlight the lines of code to run, and then click the lightning bolt icon to run only the highlighted selection. This method of running SQL code is preferable to deleting previous code.\n",
    "\n",
    "![Select.png](../../images/Select.png)"
   ]
  },
  {
   "cell_type": "markdown",
   "metadata": {},
   "source": [
    "* Type the following code to `INSERT` and to `SELECT` what you inserted.\n",
    "\n",
    "  ```sql\n",
    "  INSERT INTO people (name, has_pet, pet_type, pet_name, pet_age)\n",
    "  VALUES ('Jacob', true, 'dog', 'Misty', 10),\n",
    "    ('Ahmed', true, 'rock', 'Rockington', 100),\n",
    "    ('Peter', true, 'cat', 'Franklin', 2),\n",
    "    ('Dave', true, 'dog', 'Queso', 1);\n",
    "\n",
    "  SELECT *\n",
    "  FROM people;\n",
    "  ```"
   ]
  },
  {
   "cell_type": "markdown",
   "metadata": {},
   "source": [
    "* Use the following code to query the table, extracting only the `pet_name`.\n",
    "\n",
    "  ```sql\n",
    "  SELECT pet_name\n",
    "  FROM people;\n",
    "  ```"
   ]
  },
  {
   "cell_type": "markdown",
   "metadata": {},
   "source": [
    "* Filter the queried data to display only dogs younger than 5.\n",
    "\n",
    "  ```sql\n",
    "  SELECT pet_type, pet_name\n",
    "  FROM people\n",
    "  WHERE pet_type = 'dog'\n",
    "  AND pet_age < 5;\n",
    "  ```"
   ]
  },
  {
   "cell_type": "markdown",
   "metadata": {},
   "source": [
    "# =========================================="
   ]
  },
  {
   "cell_type": "markdown",
   "metadata": {},
   "source": [
    "### 1.03 Student Do: Creating Tables (10 mins)"
   ]
  },
  {
   "cell_type": "markdown",
   "metadata": {},
   "source": [
    "## Creating Tables\n",
    "\n",
    "In this activity, you will use pgAdmin to recreate and query a table based on image provided to you.\n",
    "\n",
    "### Instructions\n",
    "\n",
    "1. Create a new database in pgAdmin named `city_info`.\n",
    "\n",
    "2. Using the query tool, create an empty table named `cities`. Be sure to match the data types!\n",
    "\n",
    "3. Insert data into the new table. The result should match the following image.\n",
    "\n",
    "\n",
    "![cities_table.png](../../images/cities_table.png)\n",
    "\n",
    "4. Query the table to recreate the image below.\n",
    "\n",
    "![cities_only.png](../../images/cities_only.png)\n",
    "\n",
    "### Bonus\n",
    "\n",
    "1. Filter the table to view only cities in Arizona.\n",
    "\n",
    "2. Filter the table to view only cities with a population of less than 100,000.\n",
    "\n",
    "3. Filter the table to view California cities with a population of less than 100,000.\n",
    "\n",
    "### Hints\n",
    "\n",
    "* For the second bonus question, you will need to use a [`WHERE` clause](https://www.tutorialspoint.com/sql/sql-where-clause.htm) to filter the original query.\n",
    "\n",
    "* For the third bonus question, an [`AND` clause](https://www.tutorialspoint.com/sql/sql-and-or-clauses.htm) will also be necessary.\n"
   ]
  },
  {
   "cell_type": "markdown",
   "metadata": {},
   "source": [
    "### Solution\n"
   ]
  },
  {
   "cell_type": "markdown",
   "metadata": {},
   "source": [
    "```sql\n",
    "-- Create a new table\n",
    "CREATE TABLE cities (\n",
    "  city VARCHAR(30) NOT NULL,\n",
    "  state VARCHAR(30) NOT NULL,\n",
    "  population INT\n",
    ");\n",
    "```"
   ]
  },
  {
   "cell_type": "markdown",
   "metadata": {},
   "source": [
    "```sql\n",
    "-- Insert data into the table\n",
    "INSERT INTO cities (city, state, population)\n",
    " VALUES ('Alameda', 'California', 79177),\n",
    "  ('Mesa', 'Arizona', 496401),\n",
    "  ('Boerne', 'Texas', 16056),\n",
    "  ('Anaheim', 'California', 352497),\n",
    "  ('Tucson', 'Arizona', 535677),\n",
    "  ('Garland', 'Texas', 238002);\n",
    "```"
   ]
  },
  {
   "cell_type": "markdown",
   "metadata": {},
   "source": [
    "```sql\n",
    "-- View the table data\n",
    "SELECT *\n",
    "  FROM cities;\n",
    "```"
   ]
  },
  {
   "cell_type": "markdown",
   "metadata": {},
   "source": [
    "```sql\n",
    "-- Use a query to view only the cities\n",
    "SELECT city\n",
    "  FROM cities;\n",
    "```"
   ]
  },
  {
   "cell_type": "markdown",
   "metadata": {},
   "source": [
    "```sql\n",
    "-- Bonus 1:\n",
    "-- Create a query to view cities in Arizona\n",
    "SELECT city, state\n",
    "  FROM cities\n",
    "  WHERE state = 'Arizona';\n",
    "```"
   ]
  },
  {
   "cell_type": "markdown",
   "metadata": {},
   "source": [
    "```sql\n",
    "-- Bonus 2:\n",
    "-- Create a query to view cities and states\n",
    "-- with a population less than 100,000\n",
    "SELECT *\n",
    "  FROM cities\n",
    "  WHERE population < 100000;\n",
    "```"
   ]
  },
  {
   "cell_type": "markdown",
   "metadata": {},
   "source": [
    "```sql\n",
    "-- Bonus 3:\n",
    "-- Create a query to view the city in California\n",
    "-- with a population of less than 100,000\n",
    "SELECT *\n",
    "  FROM cities\n",
    "  WHERE population < 100000\n",
    "  AND state = 'California';\n",
    "```"
   ]
  },
  {
   "cell_type": "markdown",
   "metadata": {},
   "source": [
    "# =========================================="
   ]
  },
  {
   "cell_type": "markdown",
   "metadata": {},
   "source": [
    "### 1.04 Instructor Do: The Value of Unique Values (5 mins)"
   ]
  },
  {
   "cell_type": "markdown",
   "metadata": {},
   "source": [
    "```sql\n",
    "-- Delete the table \"people\"\n",
    "DROP TABLE people;\n",
    "\n",
    "-- Re-create the table \"people\" within animals_db\n",
    "CREATE TABLE people (\n",
    "  id SERIAL PRIMARY KEY,\n",
    "  name VARCHAR(30) NOT NULL,\n",
    "  has_pet BOOLEAN DEFAULT false,\n",
    "  pet_type VARCHAR(10) NOT NULL,\n",
    "  pet_name VARCHAR(30),\n",
    "  pet_age INT\n",
    ");\n",
    "\n",
    "\n",
    "```"
   ]
  },
  {
   "cell_type": "markdown",
   "metadata": {},
   "source": [
    "```sql\n",
    "-- Insert data into the table\n",
    "INSERT INTO people (name, has_pet, pet_type, pet_name, pet_age)\n",
    " VALUES ('Jacob', true, 'dog', 'Misty', 10),\n",
    "  ('Ahmed', true, 'rock', 'Rockington', 100),\n",
    "  ('Ahmed', true, 'rock', 'Rockington', 100),\n",
    "  ('Peter', true, 'cat', 'Franklin', 2),\n",
    "  ('Dave', true, 'dog', 'Queso', 1),\n",
    "  ('Dave', true, 'dog', 'Pringles', 7);\n",
    "\n",
    "```"
   ]
  },
  {
   "cell_type": "markdown",
   "metadata": {},
   "source": [
    "```sql\n",
    "-- Query all fields from the table\n",
    "SELECT *\n",
    " FROM people;\n",
    "\n",
    "```"
   ]
  },
  {
   "cell_type": "markdown",
   "metadata": {},
   "source": [
    "```sql\n",
    "-- Query the data to return all the rows containing the name \"Dave\"\n",
    "SELECT id, name, pet_name, pet_age\n",
    " FROM people\n",
    " WHERE name = 'Dave';\n",
    "\n",
    "```"
   ]
  },
  {
   "cell_type": "markdown",
   "metadata": {},
   "source": [
    "```sql\n",
    "-- Update a single row to change the `pet_name` and `pet_age` column data\n",
    "UPDATE people\n",
    " SET has_pet = true, pet_name = 'Rocket', pet_age = 8\n",
    " WHERE id = 6;\n",
    "\n",
    "SELECT *\n",
    " FROM people;\n",
    "\n",
    "```"
   ]
  },
  {
   "cell_type": "markdown",
   "metadata": {},
   "source": [
    "```sql\n",
    "-- Delete the duplicate entry using a unique id\n",
    "DELETE FROM people\n",
    " WHERE id = 3;\n",
    "\n",
    "SELECT *\n",
    " FROM people;\n",
    "```"
   ]
  },
  {
   "cell_type": "markdown",
   "metadata": {},
   "source": [
    "# =========================================="
   ]
  },
  {
   "cell_type": "markdown",
   "metadata": {},
   "source": [
    "### 1.05 Student Do: Making and Using an ID (10 mins)"
   ]
  },
  {
   "cell_type": "markdown",
   "metadata": {},
   "source": [
    "## Making and Using an ID\n",
    "\n",
    "In this activity, you will recreate a table and then query, insert, and update data.\n",
    "\n",
    "### Instructions\n",
    "\n",
    "1. Create a new database named `programming_db`. \n",
    "\n",
    "2. Recreate the `programming_languages` table using the following image.\n",
    "\n",
    "\n",
    "![programming_languages.png](../../images/programming_languages.png)\n",
    "\n",
    "3. Query the table to return the rows containing MySQL, and then delete one of the duplicates.\n",
    "\n",
    "4. Insert a few more rows of data for additional programming languages by adding the `language` and `rating` of your choice to the `programming_languages` table.\n",
    "\n",
    "5. Change the name of the JS language to JavaScript.\n",
    "\n",
    "6. Change the rating for HTML to 90.\n",
    "\n",
    "### Bonus\n",
    "\n",
    "* Research how to add columns to a table. Then create a Boolean column named `mastered` that  has a default value of `true`.\n",
    "\n",
    "* Start looking into the concept of joins in SQL. (This concept will be covered later in the lesson.)\n"
   ]
  },
  {
   "cell_type": "markdown",
   "metadata": {},
   "source": [
    "### Solution"
   ]
  },
  {
   "cell_type": "markdown",
   "metadata": {},
   "source": [
    "```sql\n",
    "-- Drop table if exists\n",
    "DROP TABLE programming_languages;\n",
    "\n",
    "```"
   ]
  },
  {
   "cell_type": "markdown",
   "metadata": {},
   "source": [
    "```sql\n",
    "-- Create new programming_languages table\n",
    "CREATE TABLE programming_languages (\n",
    "  id SERIAL PRIMARY KEY,\n",
    "  language VARCHAR(20),\n",
    "  rating INT\n",
    ");\n",
    "```"
   ]
  },
  {
   "cell_type": "markdown",
   "metadata": {},
   "source": [
    "```sql\n",
    "-- Insert new data\n",
    "INSERT INTO programming_languages (language, rating)\n",
    "  VALUES ('HTML', 95),\n",
    "\t('JS', 99),\n",
    "\t('JQuery', 98),\n",
    "\t('MySQL', 70),\n",
    "\t('MySQL', 70);\n",
    "\n",
    "SELECT * FROM programming_languages;\n",
    "\n",
    "```"
   ]
  },
  {
   "cell_type": "markdown",
   "metadata": {},
   "source": [
    "```sql\n",
    "-- Query the rows with the language \"MySQL\"\n",
    "SELECT *\n",
    "  FROM programming_languages\n",
    "  WHERE language = 'MySQL';\n",
    "\n",
    "```"
   ]
  },
  {
   "cell_type": "markdown",
   "metadata": {},
   "source": [
    "```sql\n",
    "-- Drop a duplicate row\n",
    "DELETE FROM programming_languages\n",
    "  WHERE id = 5;\n",
    "\n",
    "SELECT *\n",
    "  FROM programming_languages;\n",
    "\n",
    "```"
   ]
  },
  {
   "cell_type": "markdown",
   "metadata": {},
   "source": [
    "```sql\n",
    "-- Add additional data\n",
    "INSERT INTO programming_languages (language, rating)\n",
    "  VALUES ('Python', 98),\n",
    "\t('C++', 73),\n",
    "\t('R', 95);\n",
    "\n",
    "SELECT *\n",
    "  FROM programming_languages;\n",
    "\n",
    "```"
   ]
  },
  {
   "cell_type": "markdown",
   "metadata": {},
   "source": [
    "```sql\n",
    "-- Update \"JS\" to \"JavaScript\"\n",
    "UPDATE programming_languages\n",
    "  SET language = 'JavaScript'\n",
    "  WHERE id = 2;\n",
    "\n",
    "SELECT *\n",
    "  FROM programming_languages;\n",
    "\n",
    "```"
   ]
  },
  {
   "cell_type": "markdown",
   "metadata": {},
   "source": [
    "```sql\n",
    "-- Change HTML's rating to 90\n",
    "UPDATE programming_languages\n",
    "  SET rating = 90\n",
    "  WHERE id = 1;\n",
    "\n",
    "SELECT *\n",
    "  FROM programming_languages;\n",
    "\n",
    "```"
   ]
  },
  {
   "cell_type": "markdown",
   "metadata": {},
   "source": [
    "```sql\n",
    "-- BONUS\n",
    "-- Add a \"mastered\" column with the boolean default of true\n",
    "ALTER TABLE programming_languages\n",
    "  ADD COLUMN mastered BOOLEAN default true;\n",
    "```"
   ]
  },
  {
   "cell_type": "markdown",
   "metadata": {},
   "source": [
    "# =========================================="
   ]
  },
  {
   "cell_type": "markdown",
   "metadata": {},
   "source": [
    "### BREAK (0:10)"
   ]
  },
  {
   "cell_type": "markdown",
   "metadata": {},
   "source": [
    "# =========================================="
   ]
  },
  {
   "cell_type": "markdown",
   "metadata": {},
   "source": [
    "### 1.06 Instructor Do: Import Data (10 mins)"
   ]
  },
  {
   "cell_type": "markdown",
   "metadata": {},
   "source": [
    "* **Files:**\n",
    "\n",
    "  * [birdsong.csv](06-Ins_Importing_Data/Resources/birdsong.csv)\n",
    "\n",
    "  * [query.sql](06-Ins_Importing_Data/Solved/query.sql)"
   ]
  },
  {
   "cell_type": "markdown",
   "metadata": {},
   "source": [
    "Create database `Miscellaneous_DB`\n",
    "```sql\n",
    "CREATE DB Miscellaneous_DB;\n",
    "```"
   ]
  },
  {
   "cell_type": "markdown",
   "metadata": {},
   "source": [
    "```sql\n",
    "-- Drop table if exists\n",
    "DROP TABLE bird_song;\n",
    "\n",
    "-- Create new table\n",
    "CREATE TABLE bird_song (\n",
    "\tenglish_name VARCHAR,\n",
    "\tcountry VARCHAR,\n",
    "\tlatitude DEC,\n",
    "\tlongitude DEC\n",
    ");\n",
    "\n",
    "\n",
    "-- View table columns and datatypes\n",
    "SELECT * FROM bird_song;\n",
    "```"
   ]
  },
  {
   "cell_type": "markdown",
   "metadata": {},
   "source": [
    "  * Open a query tool within `Miscellaneous_DB` and create a table named `bird_song`. Point out that the columns created match the data in the CSV file.\n",
    "\n",
    "  * Once the table has been created, right-click **Miscellaneous_DB** from the left-hand menu and select **Refresh**.\n",
    "\n",
    "  * Scroll down to Schemas and expand that menu, and then expand the Tables menu.\n",
    "\n",
    "![table-expand.png](../../images/table-expand.png)\n",
    "\n",
    "  * Right-click the new table and select **Import/Export** from the menu.\n",
    "\n",
    "    ![import-export.png](../../images/import-export.png)\n"
   ]
  },
  {
   "cell_type": "markdown",
   "metadata": {},
   "source": [
    "* In the Options tab, complete the following steps:\n",
    "\n",
    "  * Slide the Import/Export tab to **Import**.\n",
    "\n",
    "  * Click on the dot menu to navigate to the `birdsong.csv` file on your computer.\n",
    "\n",
    "  * Slide the Header tab to **Yes**.\n",
    "\n",
    "  * Select the comma from the drop-down menu to set it as the Delimiter.\n",
    "\n",
    "  * Leave the other fields as they are, and then click **OK**.\n",
    "\n",
    "![import.png](../../images/import.png)"
   ]
  },
  {
   "cell_type": "markdown",
   "metadata": {},
   "source": [
    "# =========================================="
   ]
  },
  {
   "cell_type": "markdown",
   "metadata": {},
   "source": [
    "### 1.07 Student Do: Hide and Seek (10 mins)"
   ]
  },
  {
   "cell_type": "markdown",
   "metadata": {},
   "source": [
    "# Hide and Seek\n",
    "\n",
    "In this activity, you will create a new table and import data from a CSV file. To learn more about this dataset, you may review the reference at the end of this document.\n",
    "\n",
    "## Instructions\n",
    "\n",
    "1. Open the `soft-attributes.csv` CSV file from the Resources folder to analyze the data.\n",
    "\n",
    "2. Using the column headers and data types from the CSV file, write the table schema to create a new table in the `Miscellaneous_DB` database called `movie_words_comparison`.\n",
    "\n",
    "3. Import the data from the `soft-attributes.csv` file in the Resources folder.\n",
    "\n",
    "4. Create a query that collects all rows where `Home Alone (1990)` is in the `reference_title` column.\n",
    "\n",
    "5. Create a query that collects all rows where the rater is within the 10-15 range.\n",
    "\n",
    "6. Create a query that searches for the words `artsy` and `heartfelt` in the `soft_attribute` column.\n",
    "\n",
    "## Bonus\n",
    "\n",
    "* Create a query that will collect all rows with a reference title of `Batman (1989)` and a soft attribute of `scary`.\n",
    "\n",
    "* Create a query that will collect all rows with a rater within the 30-40 range and has a reference title of `Home Alone (1990)` and a soft attribute of `artsy`.\n",
    "\n",
    "## References\n",
    "\n",
    "Krisztian Balog, Filip Radlinski and Alexandros Karatzoglou from Google LLC (2021). SoftAttributes: Relative movie attribute dataset for soft attributes. [https://github.com/google-research-datasets/soft-attributes](https://github.com/google-research-datasets/soft-attributes).\n"
   ]
  },
  {
   "cell_type": "markdown",
   "metadata": {},
   "source": [
    "### Solution\n",
    "```sql\n",
    "-- Drop table if exists\n",
    "-- Drop table if exists\n",
    "DROP TABLE movie_words_comparison;\n",
    "\n",
    "-- Create table and view column datatypes\n",
    "CREATE TABLE movie_words_comparison (\n",
    "\trater_id INT,\n",
    "\treference_title VARCHAR,\n",
    "\tsoft_attribute VARCHAR,\n",
    "\tless_than VARCHAR,\n",
    "\tabout_as VARCHAR,\n",
    "\tmore_than VARCHAR\n",
    ");\n",
    "\n",
    "SELECT * \n",
    "FROM movie_words_comparison;\n",
    "\n",
    "-- Collect all rows where \"Home Alone (1990)\" is in the \"reference_title\" column\n",
    "SELECT * \n",
    "FROM movie_words_comparison\n",
    "WHERE reference_title = 'Home Alone (1990)';\n",
    "\n",
    "-- Collect all rows where the rater is within the 10-15 range\n",
    "SELECT *\n",
    "FROM movie_words_comparison\n",
    "WHERE\n",
    "\trater_id >= 10\n",
    "\tAND rater_id <= 15;\n",
    "\n",
    "-- Search for the words \"artsy\" and \"heartfelt\" in the \"soft_attribute\" column\n",
    "SELECT *\n",
    "FROM movie_words_comparison\n",
    "WHERE\n",
    "\tsoft_attribute = 'artsy'\n",
    "\tOR soft_attribute = 'heartfelt';\n",
    "\n",
    "-- BONUS\n",
    "-- Select all rows with a reference title of \"Batman (1989)\" and a soft attribute of \"scary\"\n",
    "SELECT *\n",
    "FROM movie_words_comparison\n",
    "WHERE\n",
    "\treference_title = 'Batman (1989)'\n",
    "\tAND soft_attribute = 'scary';\n",
    "\n",
    "-- Collect all rows where the rater is within the 30-40 range and has a reference title of \"Home Alone (1990)\" and a soft attribute of \"artsy\"\n",
    "SELECT *\n",
    "FROM movie_words_comparison\n",
    "WHERE\n",
    "\treference_title = 'Home Alone (1990)'\n",
    "\tAND soft_attribute = 'artsy'\n",
    "\tAND rater_id >= 30\n",
    "\tAND rater_id <= 40;\n",
    "\n",
    "```"
   ]
  },
  {
   "cell_type": "markdown",
   "metadata": {},
   "source": [
    "# =========================================="
   ]
  },
  {
   "cell_type": "markdown",
   "metadata": {},
   "source": [
    "### 1.08 Instructor Do: CRUD (5 mins)"
   ]
  },
  {
   "cell_type": "markdown",
   "metadata": {},
   "source": [
    "* In today's class, each of the operations has been in use. You have:\n",
    "\n",
    "  * `C` Created data in a table with the `INSERT` statement.\n",
    "\n",
    "  * `R` Read data with the use of `SELECT`.\n",
    "\n",
    "  * `U` Updated a table's data using `UPDATE`.\n",
    "\n",
    "  * `D` Deleted data using `DELETE`."
   ]
  },
  {
   "cell_type": "markdown",
   "metadata": {},
   "source": [
    "# =========================================="
   ]
  },
  {
   "cell_type": "markdown",
   "metadata": {},
   "source": [
    "### 1.08 Student Do: Using CRUD (10 mins)"
   ]
  },
  {
   "cell_type": "markdown",
   "metadata": {},
   "source": [
    "# Using CRUD: Create, Read, Update, and Delete\n",
    "\n",
    "In this activity, you will use CRUD operations (Create, Read, Update, Delete) on the provided data.\n",
    "\n",
    "## Instructions\n",
    "\n",
    "1. Create a new database named `Malaysia` in pgAdmin.\n",
    "\n",
    "2. Create two new tables in the `Malaysia` database by copying the code provided in `schema.sql` into a new query window in pgAdmin.\n",
    "\n",
    "3. Using the Import/Export tool, import the data from `mys_road_accidents.csv` into the `road_accidents` table, and then import the data from `mys_accidents_by_state.csv` into the `accidents_by_state` table.\n",
    "\n",
    "4. In the `road_accidents` table, find the row that has a `road_crashes` value of 0 and note:\n",
    "\n",
    "  * the year\n",
    "\n",
    "  * the number of `road_deaths`\n",
    "\n",
    "  * the names of the other two columns have missing data (0 values)\n",
    "\n",
    "You will be able to calculate this missing data from the second table.\n",
    "\n",
    "5. In the `accidents_by_state` table, delete all rows for years that do not have data missing from the `road_accidents` table.\n",
    "\n",
    "6. In the `accidents_by_state` table, in a single SQL query, find the [Sum](https://www.w3schools.com/sql/sql_count_avg_sum.asp) of each of the three columns with missing data, as well as `road_deaths`, and rename the summed columns with their original column name using `AS`.\n",
    "\n",
    "    * **Hint:** If you don’t rename the columns, the columns will have a name like `sum(road_deaths)`.\n",
    "\n",
    "Compare the sum of `road_deaths` from these results with the value from the `road_accidents` table. If they do not match, the other values will also be incorrect.\n",
    "\n",
    "7. Once the `road_deaths` values match up, note the values for the three columns with missing data, and update the `road_accidents` table with this new information.\n",
    "\n",
    "## Bonus\n",
    "\n",
    "* Delete all rows from `accidents_by_state` and re-import the data from `mys_accidents_by_state.csv`. If you import the data again without deleting the rows, you will have duplicated data.\n",
    "\n",
    "* Without deleting any rows, calculate the sum of `road_crashes`, `road_deaths`, `serious_injury`, and `slight_injury` for a subsequent year, and add those values plus the year to the `road_accidents` table.\n",
    "\n",
    "    **Note**: You will need to also include a value for `_id` as it has been designated the Primary Key and cannot be null, nor can it be a duplicate value of `_id`.\n",
    "\n",
    "## References\n",
    "\n",
    "Institut Penyelidikan Keselamatan Jalan Raya Malaysia (MIROS). General Road Accident Statistics in Malaysia. [https://www.data.gov.my/data/en_US/dataset/general-road-accident-statistics-in-malaysia](https://www.data.gov.my/data/en_US/dataset/general-road-accident-statistics-in-malaysia)\n",
    "\n",
    "Royal Malaysian Police (PDRM). Road Accident Statistics by Type of Accident and Injury. [https://www.data.gov.my/data/ms_MY/dataset/statistik-kemalangan-jalan-raya-mengikut-jenis-kemalangan-dan-kecederaan](https://www.data.gov.my/data/ms_MY/dataset/statistik-kemalangan-jalan-raya-mengikut-jenis-kemalangan-dan-kecederaan)\n",
    "\n",
    "---"
   ]
  },
  {
   "cell_type": "markdown",
   "metadata": {},
   "source": [
    "```sql\n",
    "-- Drop table if exists\n",
    "DROP TABLE IF EXISTS road_accidents;\n",
    "\n",
    "DROP TABLE IF EXISTS accidents_by_state;\n",
    "\n",
    "-- Create new tables to import data\n",
    "CREATE TABLE road_accidents (\n",
    "\t_id\tINT PRIMARY KEY,\n",
    "\tYear INT,\n",
    "\tRegistered_Vehicles\tINT,\n",
    "\tPopulation INT,\n",
    "\tRoad_Crashes INT,\n",
    "\tRoad_Deaths INT,\n",
    "\tSerious_Injury INT,\n",
    "\tSlight_Injury INT,\n",
    "\tIndex_per_10000_Vehicles DEC,\n",
    "\tIndex_per_100000_Population DEC,\t\n",
    "\tIndex_per_billion_VKT DEC\n",
    ");\n",
    "\n",
    "CREATE TABLE accidents_by_state (\n",
    "\tYear INT,\n",
    "\tMYS_State VARCHAR,\n",
    "\tRoad_Crashes INT,\n",
    "\tRoad_Deaths INT,\n",
    "\tSerious_Injury INT,\n",
    "\tSlight_Injury INT\n",
    ");\n",
    "\n",
    "-- Import data from mys_road_accidents.csv\n",
    "-- View the table to ensure all data has been imported correctly\n",
    "SELECT * FROM road_accidents;\n",
    "\n",
    "-- Import data from mys_accidents_by_state.csv\n",
    "-- View the table to ensure all data has been imported correctly\n",
    "SELECT * FROM accidents_by_state;\n",
    "\n",
    "```"
   ]
  },
  {
   "cell_type": "markdown",
   "metadata": {},
   "source": [
    "* Query\n",
    "\n",
    "```sql\n",
    "-- Find row with missing data\n",
    "SELECT * FROM road_accidents WHERE road_crashes = 0;\n",
    "\n",
    "-- Note columns with missing data: road_crashes, serious_injury, slight_injury\n",
    "-- Note year = 2017\n",
    "-- Note road_deaths = 6740\n",
    "\n",
    "-- Delete rows\n",
    "DELETE FROM accidents_by_state\n",
    "WHERE year != 2017;\n",
    "\n",
    "-- Calculate the missing data and rename columns\n",
    "SELECT SUM(road_crashes) AS road_crashes,\n",
    "\tSUM(serious_injury) AS serious_injury,\n",
    "\tSUM(slight_injury) AS slight_injury,\n",
    "\tSUM(road_deaths) AS road_deaths\n",
    "FROM accidents_by_state;\n",
    "\n",
    "-- Make note of them\n",
    "-- road_crashes = 533875,\n",
    "-- serious_injury = 3310,\n",
    "-- slight_injury = 6539\n",
    "-- road_deaths = 6740\n",
    "\n",
    "-- Update missing data\n",
    "UPDATE road_accidents\n",
    "SET road_crashes = 533875,\n",
    "\tserious_injury = 3310,\n",
    "\tslight_injury = 6539\n",
    "WHERE Year = 2017;\n",
    "\n",
    "-- View table\n",
    "SELECT * FROM road_accidents;\n",
    "\n",
    "-- BONUS\n",
    "\n",
    "-- Delete all rows\n",
    "DELETE FROM accidents_by_state;\n",
    "\n",
    "-- Remember to re-import from mys_accidents_by_state.csv\n",
    "\n",
    "-- Calculate the data for year 2018\n",
    "SELECT SUM(road_crashes) AS road_crashes,\n",
    "\tSUM(road_deaths) AS road_deaths,\n",
    "\tSUM(serious_injury) AS serious_injury,\n",
    "\tSUM(slight_injury) AS slight_injury\n",
    "FROM accidents_by_state\n",
    "WHERE year = 2018;\n",
    "\n",
    "-- Insert new row\n",
    "INSERT INTO \n",
    "road_accidents (_id, year, road_crashes, road_deaths, serious_injury, slight_injury)\n",
    "VALUES (22, 2018, 548598,6284,2964,5377);\n",
    "\n",
    "-- View table\n",
    "SELECT * FROM road_accidents;\n",
    "```"
   ]
  },
  {
   "cell_type": "markdown",
   "metadata": {},
   "source": [
    "# =========================================="
   ]
  },
  {
   "cell_type": "markdown",
   "metadata": {},
   "source": [
    "### 1.09 Instructor Do: Joins (10 mins)"
   ]
  },
  {
   "cell_type": "markdown",
   "metadata": {},
   "source": [
    "![Join](../../images/PostgreSQL-Joins.png)"
   ]
  },
  {
   "cell_type": "markdown",
   "metadata": {},
   "source": [
    "```sql\n",
    "-- Drop table if exists\n",
    "DROP TABLE names;\n",
    "\n",
    "-- Create the names table\n",
    "CREATE TABLE names (\n",
    "\ti INT PRIMARY KEY,\n",
    "\tdep_id INT,\n",
    "\tline INT,\n",
    "\tname VARCHAR,\n",
    "\tstatus VARCHAR,\n",
    "\tinserted_by VARCHAR,\n",
    "\tinsert_date DATE,\n",
    "\tupdated_by VARCHAR,\n",
    "\tupdate_date DATE\n",
    ");\n",
    "\n",
    "-- Check data import\n",
    "SELECT *\n",
    "FROM names;\n",
    "\n",
    "-- Create the commodity table\n",
    "CREATE TABLE commodity (\n",
    "\ti INT PRIMARY KEY,\n",
    "\tdep_id INT,\n",
    "\tline INT,\n",
    "\tcommod VARCHAR,\n",
    "\tcode VARCHAR,\n",
    "\tcommod_tp VARCHAR,\n",
    "\tcommod_group VARCHAR,\n",
    "\timport VARCHAR,\n",
    "\tinserted_by VARCHAR,\n",
    "\tinsert_date DATE,\n",
    "\tupdated_by VARCHAR,\n",
    "\tupdate_date DATE\n",
    ");\n",
    "\n",
    "-- Check data import\n",
    "SELECT *\n",
    "FROM commodity;\n",
    "\n",
    "-- Perform an INNER JOIN on the two tables\n",
    "SELECT names.name, commodity.commod, commodity.commod_tp, commodity.commod_group\n",
    "FROM names\n",
    "INNER JOIN commodity ON\n",
    "commodity.dep_id=names.dep_id;\n",
    "\n",
    "-- Alternative solution:\n",
    "-- Perform an INNER JOIN on the two tables\n",
    "SELECT n.name, c.commod, c.commod_tp, c.commod_group\n",
    "FROM names as n\n",
    "INNER JOIN commodity as c ON\n",
    "c.dep_id=n.dep_id;\n",
    "```"
   ]
  },
  {
   "cell_type": "markdown",
   "metadata": {},
   "source": [
    "* There are five primary types of joins that can be used with PostgreSQL:\n",
    "\n",
    "  * `INNER JOIN` returns records that have matching values in both tables.\n",
    "\n",
    "  * `LEFT JOIN` returns all records from the left table and the matched records from the right table.\n",
    "\n",
    "  * `RIGHT JOIN` returns all records from the right table and the matched records from the left table.\n",
    "\n",
    "  * `CROSS JOIN` returns records that match every row of the left table with every row of the right table. This type of join has the potential to make very large tables.\n",
    "\n",
    "  * `FULL OUTER JOIN` places null values within the columns that do not match between the two tables, after an inner join is performed."
   ]
  },
  {
   "cell_type": "markdown",
   "metadata": {},
   "source": [
    "# =========================================="
   ]
  },
  {
   "cell_type": "markdown",
   "metadata": {},
   "source": [
    "### 1.10 Student Do: Joining the NBA (10 mins)"
   ]
  },
  {
   "cell_type": "markdown",
   "metadata": {},
   "source": [
    "# Joining Bird Bands\n",
    "\n",
    "When information could unintentionally be duplicated, data is often stored in separate tables with reference to an `id`. In the case of the dataset you will explore, most of the unique identifiers are labeled with the word `code`.\n",
    "\n",
    "In this activity, you will be using joins to learn more about North American bird banding. The example contains data reduced from its original source, so if you would like to explore the data further, click the link in the Reference section.\n",
    "\n",
    "## Instructions\n",
    "\n",
    "* Create a new database named `bird_banding_DB`, and create eight new tables with pgAdmin named `bird_bands`, `age`, `band_type`, `bird_status`, `country_state`, `event_type`, `extra_info` and `sex`.\n",
    "\n",
    "* Copy the code from `schema.sql` to create the tables, and then import the corresponding data from the CSV files with the same names. **Note:** Remember to refresh the database. Newly created tables will not immediately appear.\n",
    "\n",
    "* Perform joins that will generate the following outputs:\n",
    "\n",
    "  * Basic Information Table:\n",
    "\n",
    "\n",
    "  | | band<br>character varying | event_date<br>character varying | species_name<br>character varying | age_description<br>character varying | sex_description<br>character varying |\n",
    "  |----|----|----|----|----|----|\n",
    "  | 1 | B06814289038 | 5/22/02 | Warbling Vireo | After Hatching Year | Unknown |\n",
    "  | 2 | B06834226076 | 2/5/97 | White-eyed Vireo | After Hatching Year | Unknown |\n",
    "  | 3 | B06834537033 | 9/28/01 | Red-eyed Vireo | After Hatching Year | Unknown |\n",
    "  | 4 | B06834538078 | 9/6/01 | Red-eyed Vireo | Hatching Year | Unknown |\n",
    "  | 5 | B06834760300 | 2/8/96 | La Sagra's Flycatcher | After Hatching Year | Unknown |\n",
    "  | 6 | B06834762078 | 12/8/95 | La Sagra's Flycatcher | Unknown | Unknown |\n",
    "  | 7 | B06834824074 | 2/9/96 | Yellow-bellied Flycatcher | After Hatching Year | Unknown |\n",
    "  | 8 | B07033377537 | 2/26/19 | Yellow-bellied Flycatcher | Second Year | Unknown |\n",
    "  | 9 | B07033378413 | 12/20/18 | Yellow-bellied Flycatcher | Hatching Year | Unknown |\n",
    "  | 10 | B07033378577 | 12/5/18 | Yellow-bellied Flycatcher | Unknown | Unknown |\n",
    "\n",
    "  * Extended Information where sex is not unknown:</br>\n",
    "\n",
    "\n",
    "  | | band<br>character varying | event_date<br>character varying | species_name<br>character varying | band_type_description<br>character varying | bird_status_description<br>character varying | age_description<br>character varying | sex_description<br>character varying |\n",
    "  |----|----|----|----|----|----|----|----|\n",
    "  | 1 | B07324722072 | 6/22/15 | Bahama Swallow | aluminum\\butt-end (toll-free /web address) | Normal wild bird. | After Hatching Year | Female |\n",
    "  | 2 | B07383058128 | 7/15/13 | Black-capped Vireo | aluminum\\butt-end (toll-free /web address) | Normal wild bird. | Hatching Year | Male |\n",
    "  | 3 | B07383058283 | 7/12/13 | Black-capped Vireo | aluminum\\butt-end (toll-free /web address) | Normal wild bird. | Hatching Year | Male |\n",
    "  | 4 | B07404371540 | 3/18/14 | Black-whiskered Vireo | aluminum\\butt-end (toll-free /web address) | Normal wild bird. | After Second Year | Female |\n",
    "  | 5 | B07423509254 | 9/9/11 | Vermilion Flycatcher | aluminum\\butt-end toll free | Normal wild bird. | After Hatching Year | Male |\n",
    "  | 6 | B07463640300 | 4/3/11 | Northern Rough-winged Swallow | aluminum\\butt-end (toll-free /web address) | Normal wild bird. | After Hatching Year | Female |\n",
    "  | 7 | B07463640387 | 4/3/11 | Northern Rough-winged Swallow | aluminum\\butt-end (toll-free /web address) | Normal wild bird. | After Hatching Year | Male |\n",
    "  | 8 | B01924380221 | 2/13/06 | Tropical Kingbird | aluminum\\butt end | Normal wild bird. | After Second Year | Male |\n",
    "  | 9 | B01974875034 | 4/7/00 | Gray Kingbird | aluminum\\butt end | Normal wild bird. | After Hatching Year | Female |\n",
    "  | 10 | B07514549034 | 3/29/11 | Tropical Kingbird | aluminum\\butt-end (toll-free /web address) | Normal wild bird. | After Second Year | Male |\n",
    "  | 11 | B08623850540 | 1/11/75 | Yellow-bellied Flycatcher | aluminum\\butt end | Normal wild bird. | Second Year | Male |\n",
    "  | 12 | B08623850863 | 2/12/75 | Least Flycatcher | aluminum\\butt end | Normal wild bird. | After Hatching Year | Female |\n",
    "\n",
    "  * **Note:** You will need to include a `WHERE` clause on sex_description.\n",
    "\n",
    "## Reference\n",
    "\n",
    "Celis-Murillo, A., Malorodova, M., and Nakash, E., 2020, North American Bird Banding Program Dataset 1960-2020 retrieved 2020-06-26: U.S. Geological Survey data release, [https://doi.org/10.5066/P9R1L6Q7](https://doi.org/10.5066/P9R1L6Q7).\n",
    "Specifically files NABBP_2020_grp_06.csv [reduced in pandas to locations outside of the US and Canada] and NABBP_Lookups_2020.zip"
   ]
  },
  {
   "cell_type": "markdown",
   "metadata": {},
   "source": [
    "```sql\n",
    "-- Join bird_bands with age and sex\n",
    "SELECT bird_bands.band, \n",
    "  bird_bands.event_date, \n",
    "  bird_bands.species_name, \n",
    "  age.age_description, \n",
    "  sex.sex_description\n",
    "FROM bird_bands\n",
    "INNER JOIN age ON bird_bands.age_code = age.age_code\n",
    "INNER JOIN sex ON bird_bands.sex_code = sex.sex_code;\n",
    "\n",
    "-- Join bird_bands with age and sex using aliases\n",
    "SELECT b.band, \n",
    "  b.event_date, \n",
    "  b.species_name, \n",
    "  a.age_description, \n",
    "  s.sex_description\n",
    "FROM bird_bands as b \n",
    "INNER JOIN age as a ON b.age_code = a.age_code\n",
    "INNER JOIN sex as s ON b.sex_code = s.sex_code;\n",
    "\n",
    "-- Join bird_bands with band_type, bird_status, age, sex\n",
    "-- where sex_description is not \"Unknown\"\n",
    "SELECT bird_bands.band, \n",
    "\tbird_bands.event_date, \n",
    "\tbird_bands.species_name, \n",
    "\tband_type.band_type_description, \n",
    "\tbird_status.bird_status_description, \n",
    "\tage.age_description, \n",
    "\tsex.sex_description\n",
    "FROM bird_bands\n",
    "INNER JOIN band_type ON bird_bands.band_type_code = band_type.band_type_code\n",
    "INNER JOIN bird_status ON bird_bands.bird_status = bird_status.bird_status\n",
    "INNER JOIN age ON bird_bands.age_code = age.age_code\n",
    "INNER JOIN sex ON bird_bands.sex_code = sex.sex_code\n",
    "WHERE sex_description != 'Unknown';\n",
    "\n",
    "-- Join bird_bands with band_type, bird_status, age, sex using aliases\n",
    "-- where sex_description is not \"Unknown\"\n",
    "SELECT b.band, \n",
    "\tb.event_date, \n",
    "\tb.species_name, \n",
    "\tbt.band_type_description, \n",
    "\tbs.bird_status_description, \n",
    "\ta.age_description, \n",
    "\ts.sex_description\n",
    "FROM bird_bands as b\n",
    "INNER JOIN band_type as bt ON b.band_type_code = bt.band_type_code\n",
    "INNER JOIN bird_status as bs ON b.bird_status = bs.bird_status\n",
    "INNER JOIN age as a ON b.age_code = a.age_code\n",
    "INNER JOIN sex as s ON b.sex_code = s.sex_code\n",
    "WHERE sex_description != 'Unknown';\n",
    "\n",
    "SELECT * FROM bird_bands;\n",
    "```"
   ]
  },
  {
   "cell_type": "markdown",
   "metadata": {},
   "source": [
    "# =========================================="
   ]
  },
  {
   "cell_type": "markdown",
   "metadata": {},
   "source": [
    "# Extra info:\n",
    "\n",
    "---"
   ]
  },
  {
   "cell_type": "markdown",
   "metadata": {},
   "source": [
    "| Name \t| Aliases \t| Description\n",
    "|:-----|:-----|:-----|\n",
    "| bigint \t| int8 \t| signed eight-byte integer\n",
    "| bigserial \t| serial8 \t| autoincrementing eight-byte integer\n",
    "| bit [ (n) ] | \t  \t| fixed-length bit string\n",
    "| bit varying [ (n) ] \t| varbit [ (n) ] \t| variable-length bit string\n",
    "| boolean \t| bool \t| logical Boolean (true/false)\n",
    "| box \t|   \t| rectangular box on a plane\n",
    "| bytea | \t  \t| binary data (\"byte array\")\n",
    "| character [ (n) ] \t| char [ (n) ] \t| fixed-length character string\n",
    "| character varying [ (n) ] \t| varchar [ (n) ] \t| variable-length character string\n",
    "| cidr \t|   \t| IPv4 or IPv6 network address\n",
    "| circle \t|   \t| circle on a plane\n",
    "| date \t|   \t| calendar date (year, month, day)\n",
    "| double precision \t| float8 \t| double precision floating-point number (8 bytes)\n",
    "| inet \t|   \t| IPv4 or IPv6 host address\n",
    "| integer \t| int, int4 \t| signed four-byte integer\n",
    "| interval [ fields ] [ (p) ] \t|   \t| time span\n",
    "| json \t|   \t| textual JSON data\n",
    "| jsonb \t|   \t| binary JSON data, decomposed\n",
    "| line \t|   \t| infinite line on a plane\n",
    "| lseg \t|   \t| line segment on a plane\n",
    "| macaddr \t|   \t| MAC (Media Access Control) address\n",
    "| money \t|   \t| currency amount\n",
    "| numeric [ (p, s) ] \t| decimal [ (p, s) ] \t| exact numeric of selectable precision\n",
    "| path \t|   \t| geometric path on a plane\n",
    "| pg_lsn \t|   \t| PostgreSQL Log Sequence Number\n",
    "| point \t|   \t| geometric point on a plane\n",
    "| polygon \t|   \t| closed geometric path on a plane\n",
    "| real \t| float4 \t| single precision floating-point number (4 bytes)\n",
    "| smallint \t| int2 \t| signed two-byte integer\n",
    "| smallserial \t| serial2 \t| autoincrementing two-byte integer\n",
    "| serial \t| serial4 \t| autoincrementing four-byte integer\n",
    "| text \t|   \t| variable-length character string\n",
    "| time [ (p) ] [ without time zone ] \t|   \t| time of day (no time zone)\n",
    "| time [ (p) ] with time zone \t| timetz \t| time of day, including time zone\n",
    "| timestamp [ (p) ] [ without time zone ] \t|   \t| date and time (no time zone)\n",
    "| timestamp [ (p) ] with time zone \t| timestamptz \t| date and time, including time zone\n",
    "| tsquery \t|   \t| text search query\n",
    "| tsvector | \t  \t| text search document\n",
    "| txid_snapshot | \t  \t| user-level transaction ID snapshot\n",
    "| uuid \t|   \t| universally unique identifier\n",
    "| xml \t|   \t| XML data"
   ]
  },
  {
   "cell_type": "markdown",
   "metadata": {},
   "source": [
    "## MySql Types\n",
    "---"
   ]
  },
  {
   "cell_type": "markdown",
   "metadata": {},
   "source": [
    "**Numeric types and lengths**\n",
    "\n",
    "| Data Type | Storage Required   |\n",
    "|------|:------|\n",
    "| TinyInteger: | `2^(8*1)`\t= 256 |\n",
    "| SmallInteger: | `2^(8*2)`\t= 65,536 |\n",
    "| MediumInteger: | `2^(8*3)`\t= 16,777,216 |\n",
    "| Integer: | `2^(8*4)`\t= 4,294,967,296 |\n",
    "| BigInteger: | `2^(8*8)`\t= 18,446,744,073,709,551,616 |\n",
    "\n",
    "\n",
    "---"
   ]
  },
  {
   "cell_type": "markdown",
   "metadata": {},
   "source": [
    "**TEXT/BLOB**\n",
    "\n",
    "| Data Type | Storage Required   |\n",
    "|------|:------|\n",
    "| TINYTEXT: | `2^8 -1`\t= 255 characters\t\t- 255 B |\n",
    "| TEXT: | `2^16 -1`\t= 65,535 characters\t\t- 64 KB |\n",
    "| MEDIUMTEXT: | `2^24 -1`\t= 16,777,215\t\t\t- 16 MB |\n",
    "| LONGTEXT: | `2^32 -1`\t= 4,294,967,295 characters\t- 4 GB |\n",
    "\n",
    "---"
   ]
  },
  {
   "cell_type": "markdown",
   "metadata": {},
   "source": [
    "**Numeric types and lengths**\n",
    "\n",
    "| Data Type | Storage Required   |\n",
    "|------|:------|\n",
    "| TINYINT | `1 byte` |\n",
    "| SMALLINT | `2 bytes` |\n",
    "| MEDIUMINT | `3 bytes` |\n",
    "| INT, INTEGER | `4 bytes` |\n",
    "| BIGINT | `8 bytes` |\n",
    "| FLOAT(p) | `4 bytes` if 0 <= p <= 24, `8 bytes` if 25 <= p <= 53 |\n",
    "| FLOAT | `4 bytes` |\n",
    "| DOUBLE [PRECISION], REAL | `8 bytes` |\n",
    "| DECIMAL(M,D), NUMERIC(M,D) | Varies; |\n",
    "| BIT(M) | approximately `(M+7)/8 bytes` |\n",
    "\n",
    "---"
   ]
  },
  {
   "cell_type": "markdown",
   "metadata": {},
   "source": [
    "**Date types and lengths**\n",
    "\n",
    "| Data Type | Storage Required   |\n",
    "|------|:------|\n",
    "| YEAR | `1 byte` \t1 byte |\n",
    "| DATE | `3 bytes` \t3 bytes |\n",
    "| TIME | `3 bytes` \t3 bytes + fractional seconds storage |\n",
    "| DATETIME | `8 bytes` \t5 bytes + fractional seconds storage |\n",
    "| TIMESTAMP | `4 bytes` \t4 bytes + fractional seconds storage |\n",
    "\n",
    "---"
   ]
  },
  {
   "cell_type": "markdown",
   "metadata": {},
   "source": [
    "**TEXT/BLOB types and lengths**\n",
    "\n",
    "| Data Type | Storage Required   |\n",
    "|------|:------|\n",
    "| CHAR(M) | The compact family of InnoDB row formats optimize storage for variable-length character sets. See COMPACT Row Format Storage Characteristics. Otherwise, M × w bytes, <= M <= 255, where w is the number of bytes required for the maximum-length character in the character set. |\n",
    "| BINARY(M) | M bytes, 0 <= M <= 255 |\n",
    "| VARCHAR(M), VARBINARY(M) | L + 1 bytes if column values require 0 ? 255 bytes, L + 2 bytes if values may require more than 255 bytes |\n",
    "| TINYBLOB, TINYTEXT | L + 1 bytes, where L < 28 |\n",
    "| BLOB, TEXT | L + 2 bytes, where L < 216 |\n",
    "| MEDIUMBLOB, MEDIUMTEXT | L + 3 bytes, where L < 224 |\n",
    "| LONGBLOB, LONGTEXT | L + 4 bytes, where L < 232 |\n",
    "| ENUM('value1','value2',...) | 1 or 2 bytes, depending on the number of enumeration values (65,535 values maximum) |\n",
    "| SET('value1','value2',...) | 1, 2, 3, 4, or 8 bytes, depending on the number of set members (64 members maximum) |\n",
    "`------------------------------`\n",
    "\n",
    "---"
   ]
  },
  {
   "cell_type": "markdown",
   "metadata": {},
   "source": [
    "# =========================================="
   ]
  },
  {
   "cell_type": "markdown",
   "metadata": {
    "tags": []
   },
   "source": [
    "### Rating Class Objectives\n",
    "\n",
    "* rate your understanding using 1-5 method in each objective"
   ]
  },
  {
   "cell_type": "code",
   "execution_count": null,
   "metadata": {},
   "outputs": [],
   "source": [
    "title = \"09-SQL - Day 1 - Introduction to SQL\"\n",
    "objectives = [\n",
    "    \"Install and run Postgres and pgAdmin on their computers\",\n",
    "    \"Create a database and tables using pgAdmin\",\n",
    "    \"Define SQL data types, primary keys, and unique values\",\n",
    "    \"Load CSV files into a database and query the data\",\n",
    "    \"Articulate the four basic functions of persistent storage (CRUD) and apply this set of functions to a database\",\n",
    "    \"Combine data from multiple tables using JOINs.\",\n",
    "]\n",
    "rating = []\n",
    "total = 0\n",
    "for i in range(len(objectives)):\n",
    "    rate = input(objectives[i]+\"? \")\n",
    "    total += int(rate)\n",
    "    rating.append(objectives[i] + \". (\" + rate + \"/5)\")\n",
    "print(\"=\"*96)\n",
    "print(f\"Self Evaluation for: {title}\")\n",
    "print(\"-\"*24)\n",
    "for i in rating:\n",
    "    print(i)\n",
    "print(\"-\"*64)\n",
    "print(\"Average: \" + str(total/len(objectives)))"
   ]
  }
 ],
 "metadata": {
  "kernelspec": {
   "display_name": "Python [conda env:PythonData]",
   "language": "python",
   "name": "conda-env-PythonData-py"
  },
  "language_info": {
   "codemirror_mode": {
    "name": "ipython",
    "version": 3
   },
   "file_extension": ".py",
   "mimetype": "text/x-python",
   "name": "python",
   "nbconvert_exporter": "python",
   "pygments_lexer": "ipython3",
   "version": "3.7.15"
  }
 },
 "nbformat": 4,
 "nbformat_minor": 4
}
